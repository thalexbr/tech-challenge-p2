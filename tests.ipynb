{
 "cells": [
  {
   "cell_type": "code",
   "execution_count": 2,
   "metadata": {},
   "outputs": [
    {
     "name": "stdout",
     "output_type": "stream",
     "text": [
      "Collecting pandas\n",
      "  Using cached pandas-2.2.2-cp311-cp311-manylinux_2_17_x86_64.manylinux2014_x86_64.whl.metadata (19 kB)\n",
      "Collecting numpy>=1.23.2 (from pandas)\n",
      "  Downloading numpy-2.1.0-cp311-cp311-manylinux_2_17_x86_64.manylinux2014_x86_64.whl.metadata (60 kB)\n",
      "\u001b[2K     \u001b[90m━━━━━━━━━━━━━━━━━━━━━━━━━━━━━━━━━━━━━━━\u001b[0m \u001b[32m60.9/60.9 kB\u001b[0m \u001b[31m740.2 kB/s\u001b[0m eta \u001b[36m0:00:00\u001b[0m \u001b[36m0:00:01\u001b[0m\n",
      "\u001b[?25hRequirement already satisfied: python-dateutil>=2.8.2 in /home/tgomes/.pyenv/versions/3.11.9/lib/python3.11/site-packages (from pandas) (2.9.0.post0)\n",
      "Collecting pytz>=2020.1 (from pandas)\n",
      "  Using cached pytz-2024.1-py2.py3-none-any.whl.metadata (22 kB)\n",
      "Collecting tzdata>=2022.7 (from pandas)\n",
      "  Using cached tzdata-2024.1-py2.py3-none-any.whl.metadata (1.4 kB)\n",
      "Requirement already satisfied: six>=1.5 in /home/tgomes/.pyenv/versions/3.11.9/lib/python3.11/site-packages (from python-dateutil>=2.8.2->pandas) (1.16.0)\n",
      "Using cached pandas-2.2.2-cp311-cp311-manylinux_2_17_x86_64.manylinux2014_x86_64.whl (13.0 MB)\n",
      "Downloading numpy-2.1.0-cp311-cp311-manylinux_2_17_x86_64.manylinux2014_x86_64.whl (16.3 MB)\n",
      "\u001b[2K   \u001b[90m━━━━━━━━━━━━━━━━━━━━━━━━━━━━━━━━━━━━━━━━\u001b[0m \u001b[32m16.3/16.3 MB\u001b[0m \u001b[31m5.5 MB/s\u001b[0m eta \u001b[36m0:00:00\u001b[0m00:01\u001b[0m00:01\u001b[0m\n",
      "\u001b[?25hUsing cached pytz-2024.1-py2.py3-none-any.whl (505 kB)\n",
      "Using cached tzdata-2024.1-py2.py3-none-any.whl (345 kB)\n",
      "Installing collected packages: pytz, tzdata, numpy, pandas\n",
      "Successfully installed numpy-2.1.0 pandas-2.2.2 pytz-2024.1 tzdata-2024.1\n",
      "\n",
      "\u001b[1m[\u001b[0m\u001b[34;49mnotice\u001b[0m\u001b[1;39;49m]\u001b[0m\u001b[39;49m A new release of pip is available: \u001b[0m\u001b[31;49m24.0\u001b[0m\u001b[39;49m -> \u001b[0m\u001b[32;49m24.2\u001b[0m\n",
      "\u001b[1m[\u001b[0m\u001b[34;49mnotice\u001b[0m\u001b[1;39;49m]\u001b[0m\u001b[39;49m To update, run: \u001b[0m\u001b[32;49mpip install --upgrade pip\u001b[0m\n",
      "Collecting pyarrow\n",
      "  Downloading pyarrow-17.0.0-cp311-cp311-manylinux_2_28_x86_64.whl.metadata (3.3 kB)\n",
      "Requirement already satisfied: numpy>=1.16.6 in /home/tgomes/.pyenv/versions/3.11.9/lib/python3.11/site-packages (from pyarrow) (2.1.0)\n",
      "Downloading pyarrow-17.0.0-cp311-cp311-manylinux_2_28_x86_64.whl (39.9 MB)\n",
      "\u001b[2K   \u001b[90m━━━━━━━━━━━━━━━━━━━━━━━━━━━━━━━━━━━━━━━━\u001b[0m \u001b[32m39.9/39.9 MB\u001b[0m \u001b[31m4.5 MB/s\u001b[0m eta \u001b[36m0:00:00\u001b[0m:00:01\u001b[0m00:01\u001b[0m\n",
      "\u001b[?25hInstalling collected packages: pyarrow\n",
      "Successfully installed pyarrow-17.0.0\n",
      "\n",
      "\u001b[1m[\u001b[0m\u001b[34;49mnotice\u001b[0m\u001b[1;39;49m]\u001b[0m\u001b[39;49m A new release of pip is available: \u001b[0m\u001b[31;49m24.0\u001b[0m\u001b[39;49m -> \u001b[0m\u001b[32;49m24.2\u001b[0m\n",
      "\u001b[1m[\u001b[0m\u001b[34;49mnotice\u001b[0m\u001b[1;39;49m]\u001b[0m\u001b[39;49m To update, run: \u001b[0m\u001b[32;49mpip install --upgrade pip\u001b[0m\n"
     ]
    }
   ],
   "source": [
    "!pip install pandas\n",
    "!pip install pyarrow"
   ]
  },
  {
   "cell_type": "code",
   "execution_count": 18,
   "metadata": {},
   "outputs": [],
   "source": [
    "import pandas as pd\n",
    "import pyarrow as pa\n",
    "import pyarrow.parquet as pq\n",
    "\n",
    "def csv_to_parquet(csv_file, parquet_file, options):\n",
    "\n",
    "  # Read the CSV file into a Pandas DataFrame\n",
    "  # with open(csv_filename,'r') as csv_file:\n",
    "  df = pd.read_csv(csv_file, **options)\n",
    "\n",
    "  df = df.rename(columns={'Setor': 'setor'})\n",
    "  df = df.rename(columns={'Código': 'cod'})\n",
    "  df = df.rename(columns={'Ação': 'acao'})\n",
    "  df = df.rename(columns={'Tipo':'tipo' })\n",
    "  df = df.rename(columns={'Qtde. Teórica':'qtde_teorica'})\n",
    "  df = df.rename(columns={'Part. (%)':'part_perc'})\n",
    "  df = df.rename(columns={'Part. (%)Acum.':'part_perc_acum'})\n",
    "\n",
    "  print(df)\n",
    "\n",
    "  # Convert the DataFrame to a PyArrow Table\n",
    "  table = pa.Table.from_pandas(df)\n",
    "\n",
    "  # Write the table to a Parquet file\n",
    "  pq.write_table(table, parquet_file)"
   ]
  },
  {
   "cell_type": "code",
   "execution_count": 19,
   "metadata": {},
   "outputs": [
    {
     "name": "stdout",
     "output_type": "stream",
     "text": [
      "                              setor     cod          acao        tipo  \\\n",
      "0        Bens Indls / Máqs e Equips   WEGE3           WEG  ON      NM   \n",
      "1       Bens Indls / Mat Transporte   EMBR3       EMBRAER  ON      NM   \n",
      "2             Bens Indls/Transporte   AZUL4          AZUL  PN  ATZ N2   \n",
      "3             Bens Indls/Transporte   CCRO3        CCR SA  ON      NM   \n",
      "4             Bens Indls/Transporte   RAIL3     RUMO S.A.  ON      NM   \n",
      "..                              ...     ...           ...         ...   \n",
      "81  Utilidade Públ / Energ Elétrica   ENEV3         ENEVA  ON      NM   \n",
      "82  Utilidade Públ / Energ Elétrica   EGIE3  ENGIE BRASIL  ON  ED  NM   \n",
      "83  Utilidade Públ / Energ Elétrica   EQTL3    EQUATORIAL  ON      NM   \n",
      "84  Utilidade Públ / Energ Elétrica  TAEE11         TAESA  UNT     N2   \n",
      "85  Utilidade Públ / Energ Elétrica   TRPL4  TRAN PAULIST  PN      N1   \n",
      "\n",
      "    qtde_teorica  part_perc  part_perc_acum  \n",
      "0     1269032828      3.061           3.061  \n",
      "1      734632601      1.532           1.532  \n",
      "2      328421113      0.079           2.342  \n",
      "3      991920937      0.585           2.342  \n",
      "4     1215994115      1.183           2.342  \n",
      "..           ...        ...             ...  \n",
      "81    1579821370      0.924          10.839  \n",
      "82     255236938      0.513          10.839  \n",
      "83    1244602400      1.896          10.839  \n",
      "84     218568234      0.345          10.839  \n",
      "85     395801044      0.436          10.839  \n",
      "\n",
      "[86 rows x 7 columns]\n"
     ]
    }
   ],
   "source": [
    "options = {'encoding':'ISO-8859-1','skipfooter':2, 'sep':';', 'thousands':'.', 'decimal':',', 'header':1, 'index_col':False, 'engine': 'python'}\n",
    "csv_to_parquet('sample.csv','sample.parquet',options)"
   ]
  }
 ],
 "metadata": {
  "kernelspec": {
   "display_name": "tech-challenge-p2-GhN-Hwy4-py3.11",
   "language": "python",
   "name": "python3"
  },
  "language_info": {
   "codemirror_mode": {
    "name": "ipython",
    "version": 3
   },
   "file_extension": ".py",
   "mimetype": "text/x-python",
   "name": "python",
   "nbconvert_exporter": "python",
   "pygments_lexer": "ipython3",
   "version": "3.11.9"
  }
 },
 "nbformat": 4,
 "nbformat_minor": 2
}
